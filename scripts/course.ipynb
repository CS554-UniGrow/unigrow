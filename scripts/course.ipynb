{
 "cells": [
  {
   "cell_type": "code",
   "execution_count": 26,
   "metadata": {},
   "outputs": [],
   "source": [
    "import json\n",
    "all_course_list_url = \"https://stevens.smartcatalogiq.com/Institutions/Stevens-Institution-of-Technology/json/2023-2024/Academic-Catalog.json\"\n"
   ]
  },
  {
   "cell_type": "code",
   "execution_count": 114,
   "metadata": {},
   "outputs": [],
   "source": [
    "import time\n",
    "import re\n",
    "from selenium import webdriver\n",
    "from selenium.webdriver import ChromeOptions\n",
    "from selenium.webdriver.common.by import By\n",
    "from selenium.webdriver.support.ui import WebDriverWait\n",
    "from selenium.webdriver.support import expected_conditions as EC\n",
    "\n",
    "options = ChromeOptions()\n",
    "options.add_argument('--headless')\n",
    "driver = webdriver.Chrome(options=options)  # Optional argument, if not specified will search path.\n",
    "\n",
    "def run_window(driver, url):\n",
    "    # elem = WebDriverWait(driver, 30).until(\n",
    "    #     EC.presence_of_element_located((By.ID, \"main\")) #This is a dummy element\n",
    "    # )\n",
    "    driver.get(url)\n",
    "    time.sleep(4) # Let the user actually see something!\n",
    "    search_box = driver.find_element(By.ID, 'main')\n",
    "    try:\n",
    "        course_title = search_box.find_element(By.TAG_NAME, 'h1').text\n",
    "    except Exception as e:\n",
    "        course_title = \"\"\n",
    "    try:\n",
    "        course_description = search_box.find_element(By.CLASS_NAME, 'desc').text\n",
    "    except Exception as e:\n",
    "        course_description = \"\"\n",
    "    try:\n",
    "        course_credits = search_box.find_element(By.CLASS_NAME, 'credits').text\n",
    "        \n",
    "    except Exception as e:\n",
    "        course_credits = \"\"\n",
    "    try:\n",
    "        course_prereqs = search_box.find_element(By.CLASS_NAME, 'sc_prereqs').text\n",
    "        regex = r\"[A-Z]{2,4}\\s\\d{3}\"\n",
    "        course_prereqs = [match.group(0) for match in re.finditer(regex, course_prereqs)]\n",
    "        \n",
    "    except Exception as e:\n",
    "        course_prereqs = \"\"\n",
    "    try:\n",
    "        course_distribution = search_box.find_element(By.ID, 'distribution').text\n",
    "    except Exception as e:\n",
    "        course_distribution = \"\"\n",
    "    try:\n",
    "        \n",
    "        course_offering = search_box.find_element(By.TAG_NAME, 'p').text\n",
    "    except Exception as e:\n",
    "        course_offering = \"\"\n",
    "\n",
    "\n",
    "    # time.sleep(1) # Let the user actually see something!\n",
    "    offers = []\n",
    "    if \"Fall\" in course_offering:\n",
    "        offers.append(\"Fall\")\n",
    "    if \"Spring\" in course_offering:\n",
    "        offers.append(\"Spring\")\n",
    "    if \"Summer Session 1\" in course_offering:\n",
    "        offers.append(\"Summer Session 1\")\n",
    "    if \"Summer Session 2\" in course_offering:\n",
    "        offers.append(\"Summer Session 2\")\n",
    "        \n",
    "    return {\n",
    "        'course_title': course_title,\n",
    "        'course_description': course_description,\n",
    "        'course_credits': course_credits,\n",
    "        'course_prereqs': course_prereqs,\n",
    "        'course_offered_in': offers\n",
    "    }"
   ]
  },
  {
   "cell_type": "code",
   "execution_count": 115,
   "metadata": {},
   "outputs": [],
   "source": [
    "data_ = json.load(open(\"courses.json\", \"r\"))"
   ]
  },
  {
   "cell_type": "code",
   "execution_count": 121,
   "metadata": {},
   "outputs": [
    {
     "name": "stdout",
     "output_type": "stream",
     "text": [
      "0. You're looking at department: AAI - Applied Artificial Intelligence\n",
      "0. You're looking at course difficulty: 500\n",
      "Fetching data for AAI 551\n",
      "1. You're looking at course difficulty: 600\n",
      "Fetching data for AAI 627\n",
      "Fetching data for AAI 628\n"
     ]
    },
    {
     "ename": "KeyboardInterrupt",
     "evalue": "",
     "output_type": "error",
     "traceback": [
      "\u001b[0;31m---------------------------------------------------------------------------\u001b[0m",
      "\u001b[0;31mKeyboardInterrupt\u001b[0m                         Traceback (most recent call last)",
      "\u001b[1;32m/Users/dhruvvaghela/Desktop/Stevens/CS554/unigrow/scripts/course.ipynb Cell 4\u001b[0m line \u001b[0;36m2\n\u001b[1;32m     <a href='vscode-notebook-cell:/Users/dhruvvaghela/Desktop/Stevens/CS554/unigrow/scripts/course.ipynb#W2sZmlsZQ%3D%3D?line=25'>26</a>\u001b[0m course_detail_url \u001b[39m=\u001b[39m \u001b[39mf\u001b[39m\u001b[39m\"\u001b[39m\u001b[39m{\u001b[39;00mbase_url\u001b[39m}\u001b[39;00m\u001b[39m{\u001b[39;00mcourse[\u001b[39m'\u001b[39m\u001b[39mPath\u001b[39m\u001b[39m'\u001b[39m]\u001b[39m}\u001b[39;00m\u001b[39m\"\u001b[39m\n\u001b[1;32m     <a href='vscode-notebook-cell:/Users/dhruvvaghela/Desktop/Stevens/CS554/unigrow/scripts/course.ipynb#W2sZmlsZQ%3D%3D?line=27'>28</a>\u001b[0m \u001b[39mprint\u001b[39m(\u001b[39mf\u001b[39m\u001b[39m\"\u001b[39m\u001b[39mFetching data for \u001b[39m\u001b[39m{\u001b[39;00mcourse[\u001b[39m'\u001b[39m\u001b[39mName\u001b[39m\u001b[39m'\u001b[39m]\u001b[39m}\u001b[39;00m\u001b[39m\"\u001b[39m)\n\u001b[0;32m---> <a href='vscode-notebook-cell:/Users/dhruvvaghela/Desktop/Stevens/CS554/unigrow/scripts/course.ipynb#W2sZmlsZQ%3D%3D?line=28'>29</a>\u001b[0m data \u001b[39m=\u001b[39m run_window(driver, course_detail_url)\n\u001b[1;32m     <a href='vscode-notebook-cell:/Users/dhruvvaghela/Desktop/Stevens/CS554/unigrow/scripts/course.ipynb#W2sZmlsZQ%3D%3D?line=29'>30</a>\u001b[0m data[\u001b[39m'\u001b[39m\u001b[39mcourse_code\u001b[39m\u001b[39m'\u001b[39m] \u001b[39m=\u001b[39m course[\u001b[39m'\u001b[39m\u001b[39mName\u001b[39m\u001b[39m'\u001b[39m]\n\u001b[1;32m     <a href='vscode-notebook-cell:/Users/dhruvvaghela/Desktop/Stevens/CS554/unigrow/scripts/course.ipynb#W2sZmlsZQ%3D%3D?line=30'>31</a>\u001b[0m data[\u001b[39m'\u001b[39m\u001b[39mcourse_level\u001b[39m\u001b[39m'\u001b[39m] \u001b[39m=\u001b[39m c[\u001b[39m'\u001b[39m\u001b[39mName\u001b[39m\u001b[39m'\u001b[39m]\n",
      "\u001b[1;32m/Users/dhruvvaghela/Desktop/Stevens/CS554/unigrow/scripts/course.ipynb Cell 4\u001b[0m line \u001b[0;36m1\n\u001b[1;32m     <a href='vscode-notebook-cell:/Users/dhruvvaghela/Desktop/Stevens/CS554/unigrow/scripts/course.ipynb#W2sZmlsZQ%3D%3D?line=12'>13</a>\u001b[0m \u001b[39mdef\u001b[39;00m \u001b[39mrun_window\u001b[39m(driver, url):\n\u001b[1;32m     <a href='vscode-notebook-cell:/Users/dhruvvaghela/Desktop/Stevens/CS554/unigrow/scripts/course.ipynb#W2sZmlsZQ%3D%3D?line=13'>14</a>\u001b[0m     \u001b[39m# elem = WebDriverWait(driver, 30).until(\u001b[39;00m\n\u001b[1;32m     <a href='vscode-notebook-cell:/Users/dhruvvaghela/Desktop/Stevens/CS554/unigrow/scripts/course.ipynb#W2sZmlsZQ%3D%3D?line=14'>15</a>\u001b[0m     \u001b[39m#     EC.presence_of_element_located((By.ID, \"main\")) #This is a dummy element\u001b[39;00m\n\u001b[1;32m     <a href='vscode-notebook-cell:/Users/dhruvvaghela/Desktop/Stevens/CS554/unigrow/scripts/course.ipynb#W2sZmlsZQ%3D%3D?line=15'>16</a>\u001b[0m     \u001b[39m# )\u001b[39;00m\n\u001b[1;32m     <a href='vscode-notebook-cell:/Users/dhruvvaghela/Desktop/Stevens/CS554/unigrow/scripts/course.ipynb#W2sZmlsZQ%3D%3D?line=16'>17</a>\u001b[0m     driver\u001b[39m.\u001b[39mget(url)\n\u001b[0;32m---> <a href='vscode-notebook-cell:/Users/dhruvvaghela/Desktop/Stevens/CS554/unigrow/scripts/course.ipynb#W2sZmlsZQ%3D%3D?line=17'>18</a>\u001b[0m     time\u001b[39m.\u001b[39msleep(\u001b[39m4\u001b[39m) \u001b[39m# Let the user actually see something!\u001b[39;00m\n\u001b[1;32m     <a href='vscode-notebook-cell:/Users/dhruvvaghela/Desktop/Stevens/CS554/unigrow/scripts/course.ipynb#W2sZmlsZQ%3D%3D?line=18'>19</a>\u001b[0m     search_box \u001b[39m=\u001b[39m driver\u001b[39m.\u001b[39mfind_element(By\u001b[39m.\u001b[39mID, \u001b[39m'\u001b[39m\u001b[39mmain\u001b[39m\u001b[39m'\u001b[39m)\n\u001b[1;32m     <a href='vscode-notebook-cell:/Users/dhruvvaghela/Desktop/Stevens/CS554/unigrow/scripts/course.ipynb#W2sZmlsZQ%3D%3D?line=19'>20</a>\u001b[0m     \u001b[39mtry\u001b[39;00m:\n",
      "\u001b[0;31mKeyboardInterrupt\u001b[0m: "
     ]
    }
   ],
   "source": [
    "\n",
    "base_url = \"https://stevens.smartcatalogiq.com/en\"\n",
    "courses_list_idx = 24 \n",
    "\n",
    "all_courses = data_['Children'][courses_list_idx]\n",
    "all_courses = all_courses['Children']\n",
    "\n",
    "file = open(\"all_cs.json\", \"a\")\n",
    "file.write(\"[\")\n",
    "for idx, c in enumerate(all_courses):\n",
    "  print(f\"{idx}. You're looking at department: {c['Name']}\")\n",
    "\n",
    "  for idx, department in enumerate(c['Children']):\n",
    "    print(f\"{idx}. You're looking at course difficulty: {department['Name']}\")\n",
    "\n",
    "    for idx, course in enumerate(department['Children']):\n",
    "      \n",
    "      course_detail_url = f\"{base_url}{course['Path']}\"\n",
    "      \n",
    "      print(f\"Fetching data for {course['Name']}\")\n",
    "      data = run_window(driver, course_detail_url)\n",
    "      data['course_code'] = course['Name']\n",
    "      data['course_level'] = c['Name']\n",
    "      data['course_rating'] = None\n",
    "      data['course_professors'] = []\n",
    "      data['course_syllabus'] = \"\"\n",
    "      data['currently_enrolled'] = []\n",
    "      data['previous_enrolled'] = []\n",
    "      data['stevens_course_link'] = f\"{base_url}{course['Path']}\"\n",
    "      file.write(json.dumps(data) + ',')\n",
    "file.write(\"]\")\n",
    "file.close()"
   ]
  }
 ],
 "metadata": {
  "kernelspec": {
   "display_name": "Python 3",
   "language": "python",
   "name": "python3"
  },
  "language_info": {
   "codemirror_mode": {
    "name": "ipython",
    "version": 3
   },
   "file_extension": ".py",
   "mimetype": "text/x-python",
   "name": "python",
   "nbconvert_exporter": "python",
   "pygments_lexer": "ipython3",
   "version": "3.11.5"
  }
 },
 "nbformat": 4,
 "nbformat_minor": 2
}

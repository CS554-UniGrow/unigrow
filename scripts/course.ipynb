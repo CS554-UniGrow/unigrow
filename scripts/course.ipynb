{
 "cells": [
  {
   "cell_type": "code",
   "execution_count": 2,
   "metadata": {},
   "outputs": [],
   "source": [
    "import json\n",
    "all_course_list_url = \"https://stevens.smartcatalogiq.com/Institutions/Stevens-Institution-of-Technology/json/2023-2024/Academic-Catalog.json\"\n"
   ]
  },
  {
   "cell_type": "code",
   "execution_count": 3,
   "metadata": {},
   "outputs": [
    {
     "ename": "ModuleNotFoundError",
     "evalue": "No module named 'selenium'",
     "output_type": "error",
     "traceback": [
      "\u001b[0;31m---------------------------------------------------------------------------\u001b[0m",
      "\u001b[0;31mModuleNotFoundError\u001b[0m                       Traceback (most recent call last)",
      "Input \u001b[0;32mIn [3]\u001b[0m, in \u001b[0;36m<cell line: 3>\u001b[0;34m()\u001b[0m\n\u001b[1;32m      1\u001b[0m \u001b[38;5;28;01mimport\u001b[39;00m \u001b[38;5;21;01mtime\u001b[39;00m\n\u001b[1;32m      2\u001b[0m \u001b[38;5;28;01mimport\u001b[39;00m \u001b[38;5;21;01mre\u001b[39;00m\n\u001b[0;32m----> 3\u001b[0m \u001b[38;5;28;01mfrom\u001b[39;00m \u001b[38;5;21;01mselenium\u001b[39;00m \u001b[38;5;28;01mimport\u001b[39;00m webdriver\n\u001b[1;32m      4\u001b[0m \u001b[38;5;28;01mfrom\u001b[39;00m \u001b[38;5;21;01mselenium\u001b[39;00m\u001b[38;5;21;01m.\u001b[39;00m\u001b[38;5;21;01mwebdriver\u001b[39;00m \u001b[38;5;28;01mimport\u001b[39;00m ChromeOptions\n\u001b[1;32m      5\u001b[0m \u001b[38;5;28;01mfrom\u001b[39;00m \u001b[38;5;21;01mselenium\u001b[39;00m\u001b[38;5;21;01m.\u001b[39;00m\u001b[38;5;21;01mwebdriver\u001b[39;00m\u001b[38;5;21;01m.\u001b[39;00m\u001b[38;5;21;01mcommon\u001b[39;00m\u001b[38;5;21;01m.\u001b[39;00m\u001b[38;5;21;01mby\u001b[39;00m \u001b[38;5;28;01mimport\u001b[39;00m By\n",
      "\u001b[0;31mModuleNotFoundError\u001b[0m: No module named 'selenium'"
     ]
    }
   ],
   "source": [
    "import time\n",
    "import re\n",
    "from selenium import webdriver\n",
    "from selenium.webdriver import ChromeOptions\n",
    "from selenium.webdriver.common.by import By\n",
    "from selenium.webdriver.support.ui import WebDriverWait\n",
    "from selenium.webdriver.support import expected_conditions as EC\n",
    "\n",
    "options = ChromeOptions()\n",
    "options.add_argument('--headless')\n",
    "driver = webdriver.Chrome(options=options)  # Optional argument, if not specified will search path.\n",
    "issues = []\n",
    "def run_window(driver, url):\n",
    "    # elem = WebDriverWait(driver, 30).until(\n",
    "    #     EC.presence_of_element_located((By.ID, \"main\")) #This is a dummy element\n",
    "    # )\n",
    "    driver.get(url)\n",
    "    time.sleep(20) # Let the user actually see something!\n",
    "    try:\n",
    "        search_box = driver.find_element(By.ID, 'main')\n",
    "    except Exception as e:\n",
    "        issues.append(url)\n",
    "        return None\n",
    "\n",
    "    try:\n",
    "        course_title = search_box.find_element(By.TAG_NAME, 'h1').text\n",
    "    except Exception as e:\n",
    "        course_title = \"\"\n",
    "    try:\n",
    "        course_description = search_box.find_element(By.CLASS_NAME, 'desc').text\n",
    "    except Exception as e:\n",
    "        course_description = \"\"\n",
    "    try:\n",
    "        course_credits = search_box.find_element(By.CLASS_NAME, 'credits').text\n",
    "        \n",
    "    except Exception as e:\n",
    "        course_credits = \"\"\n",
    "    try:\n",
    "        course_prereqs = search_box.find_element(By.CLASS_NAME, 'sc_prereqs').text\n",
    "        regex = r\"[A-Z]{2,4}\\s\\d{3}\"\n",
    "        course_prereqs = [match.group(0) for match in re.finditer(regex, course_prereqs)]\n",
    "        \n",
    "    except Exception as e:\n",
    "        course_prereqs = \"\"\n",
    "    try:\n",
    "        course_distribution = search_box.find_element(By.ID, 'distribution').text\n",
    "    except Exception as e:\n",
    "        course_distribution = \"\"\n",
    "    try:\n",
    "        \n",
    "        course_offering = search_box.find_element(By.TAG_NAME, 'p').text\n",
    "    except Exception as e:\n",
    "        course_offering = \"\"\n",
    "\n",
    "\n",
    "    # time.sleep(1) # Let the user actually see something!\n",
    "    offers = []\n",
    "    if \"Fall\" in course_offering:\n",
    "        offers.append(\"Fall\")\n",
    "    if \"Spring\" in course_offering:\n",
    "        offers.append(\"Spring\")\n",
    "    if \"Summer Session 1\" in course_offering:\n",
    "        offers.append(\"Summer Session 1\")\n",
    "    if \"Summer Session 2\" in course_offering:\n",
    "        offers.append(\"Summer Session 2\")\n",
    "        \n",
    "    return {\n",
    "        'course_title': course_title,\n",
    "        'course_description': course_description,\n",
    "        'course_credits': course_credits,\n",
    "        'course_prereqs': course_prereqs,\n",
    "        'course_offered_in': offers\n",
    "    }"
   ]
  },
  {
   "cell_type": "code",
   "execution_count": 4,
   "metadata": {},
   "outputs": [],
   "source": [
    "data_ = json.load(open(\"courses.json\", \"r\"))"
   ]
  },
  {
   "cell_type": "code",
   "execution_count": 6,
   "metadata": {},
   "outputs": [
    {
     "name": "stdout",
     "output_type": "stream",
     "text": [
      "0. You're looking at department: AAI - Applied Artificial Intelligence\n",
      "0. You're looking at course difficulty: 500\n",
      "Fetching data for AAI 551\n"
     ]
    },
    {
     "ename": "NameError",
     "evalue": "name 'run_window' is not defined",
     "output_type": "error",
     "traceback": [
      "\u001b[0;31m---------------------------------------------------------------------------\u001b[0m",
      "\u001b[0;31mNameError\u001b[0m                                 Traceback (most recent call last)",
      "Input \u001b[0;32mIn [6]\u001b[0m, in \u001b[0;36m<cell line: 12>\u001b[0;34m()\u001b[0m\n\u001b[1;32m     20\u001b[0m course_detail_url \u001b[38;5;241m=\u001b[39m \u001b[38;5;124mf\u001b[39m\u001b[38;5;124m\"\u001b[39m\u001b[38;5;132;01m{\u001b[39;00mbase_url\u001b[38;5;132;01m}\u001b[39;00m\u001b[38;5;132;01m{\u001b[39;00mcourse[\u001b[38;5;124m'\u001b[39m\u001b[38;5;124mPath\u001b[39m\u001b[38;5;124m'\u001b[39m]\u001b[38;5;132;01m}\u001b[39;00m\u001b[38;5;124m\"\u001b[39m\n\u001b[1;32m     22\u001b[0m \u001b[38;5;28mprint\u001b[39m(\u001b[38;5;124mf\u001b[39m\u001b[38;5;124m\"\u001b[39m\u001b[38;5;124mFetching data for \u001b[39m\u001b[38;5;132;01m{\u001b[39;00mcourse[\u001b[38;5;124m'\u001b[39m\u001b[38;5;124mName\u001b[39m\u001b[38;5;124m'\u001b[39m]\u001b[38;5;132;01m}\u001b[39;00m\u001b[38;5;124m\"\u001b[39m)\n\u001b[0;32m---> 23\u001b[0m data \u001b[38;5;241m=\u001b[39m \u001b[43mrun_window\u001b[49m(driver, course_detail_url)\n\u001b[1;32m     24\u001b[0m \u001b[38;5;28;01mif\u001b[39;00m ( data \u001b[38;5;241m!=\u001b[39m \u001b[38;5;28;01mNone\u001b[39;00m):\n\u001b[1;32m     25\u001b[0m   data[\u001b[38;5;124m'\u001b[39m\u001b[38;5;124mcourse_code\u001b[39m\u001b[38;5;124m'\u001b[39m] \u001b[38;5;241m=\u001b[39m course[\u001b[38;5;124m'\u001b[39m\u001b[38;5;124mName\u001b[39m\u001b[38;5;124m'\u001b[39m]\n",
      "\u001b[0;31mNameError\u001b[0m: name 'run_window' is not defined"
     ]
    }
   ],
   "source": [
    "\n",
    "base_url = \"https://stevens.smartcatalogiq.com/en\"\n",
    "courses_list_idx = 24 \n",
    "\n",
    "all_courses = data_['Children'][courses_list_idx]\n",
    "all_courses = all_courses['Children']\n",
    "import os\n",
    "if os.path.exists(\"course_data_extracted.json\"):\n",
    "  os.remove(\"course_data_extracted.json\")\n",
    "\n",
    "file = open(\"course_data_extracted_new.json\", \"a\")\n",
    "file.write(\"[\")\n",
    "for idx, c in enumerate(all_courses):\n",
    "  print(f\"{idx}. You're looking at department: {c['Name']}\")\n",
    "\n",
    "  for idx, department in enumerate(c['Children']):\n",
    "    print(f\"{idx}. You're looking at course difficulty: {department['Name']}\")\n",
    "\n",
    "    for idx, course in enumerate(department['Children']):\n",
    "      \n",
    "      course_detail_url = f\"{base_url}{course['Path']}\"\n",
    "      \n",
    "      print(f\"Fetching data for {course['Name']}\")\n",
    "      data = run_window(driver, course_detail_url)\n",
    "      if ( data != None):\n",
    "        data['course_code'] = course['Name']\n",
    "        data['course_level'] = department['Name']\n",
    "        data['course_rating'] = None\n",
    "        data['course_ratings'] = []\n",
    "        data['course_professors'] = []\n",
    "        data['course_syllabus'] = \"\"\n",
    "        data['currently_enrolled'] = []\n",
    "        data['previously_enrolled'] = []\n",
    "        data['stevens_course_link'] = f\"{base_url}{course['Path']}\"\n",
    "        file.write(json.dumps(data) + ',')\n",
    "file.write(\"]\")\n",
    "file.close()"
   ]
  },
  {
   "cell_type": "code",
   "execution_count": null,
   "metadata": {},
   "outputs": [
    {
     "name": "stdout",
     "output_type": "stream",
     "text": [
      "['https://stevens.smartcatalogiq.com/en/2023-2024/Academic-Catalog/Courses/AAI-Applied-Artificial-Intelligence/700/AAI-708']\n"
     ]
    }
   ],
   "source": [
    "print(issues)"
   ]
  },
  {
   "cell_type": "code",
   "execution_count": null,
   "metadata": {},
   "outputs": [
    {
     "data": {
      "text/plain": [
       "{'course_title': 'AAI 551 Engineering Programming: Python',\n",
       " 'course_description': 'This course presents tool, techniques, algorithms, and programming techniques using the Python programming language for data intensive applications and decision making. The course formally introduces techniques to: (i) gather,(ii) store, and (iii) process large volumes of data to make informed decisions. Such techniques find applicability in many engineering application areas, including communications systems, embedded systems, smart grids, robotics, Internet, and enterprise networks, or any network where information flows and alters decision making.',\n",
       " 'course_credits': '3',\n",
       " 'course_prereqs': [],\n",
       " 'course_offered_in': [],\n",
       " 'course_code': 'AAI 551',\n",
       " 'course_level': '500',\n",
       " 'course_rating': None,\n",
       " 'course_professors': [],\n",
       " 'course_syllabus': '',\n",
       " 'currently_enrolled': [],\n",
       " 'previous_enrolled': [],\n",
       " 'stevens_course_link': 'https://stevens.smartcatalogiq.com/en/2023-2024/Academic-Catalog/Courses/AAI-Applied-Artificial-Intelligence/500/AAI-551',\n",
       " 'department_code': 'AAI',\n",
       " 'department': 'Applied Artificial Intelligence'}"
      ]
     },
     "execution_count": 15,
     "metadata": {},
     "output_type": "execute_result"
    }
   ],
   "source": [
    "import json\n",
    "courses = json.load(open(\"course_data_extracted.json\", \"r\"))\n",
    "courses[0]"
   ]
  },
  {
   "cell_type": "code",
   "execution_count": null,
   "metadata": {},
   "outputs": [],
   "source": [
    "unique_mapper = {}\n",
    "unique_courses = []\n",
    "for c in courses:\n",
    "  split = c['course_code'].split(' ')[0]\n",
    "  if split is not None and split not in unique_mapper:\n",
    "    unique_courses.append({'course_code': split, 'department': \" \".join(c['stevens_course_link'].split('/')[-3].split('-')[1:])})\n",
    "    unique_mapper[split] = \" \".join(c['stevens_course_link'].split('/')[-3].split('-')[1:])"
   ]
  },
  {
   "cell_type": "code",
   "execution_count": null,
   "metadata": {},
   "outputs": [
    {
     "data": {
      "text/plain": [
       "[{'course_code': 'AAI', 'department': 'Applied Artificial Intelligence'},\n",
       " {'course_code': 'ACC', 'department': 'Accounting'},\n",
       " {'course_code': 'BIA', 'department': 'Business Intelligence and Analytics'},\n",
       " {'course_code': 'BIO', 'department': 'Biology'},\n",
       " {'course_code': 'BIOE', 'department': 'Bioengineering'},\n",
       " {'course_code': 'BME', 'department': 'Biomedical Engineering'},\n",
       " {'course_code': 'BT', 'department': 'Business and Technology'},\n",
       " {'course_code': 'CAL', 'department': 'College of Arts Letters'},\n",
       " {'course_code': 'CE', 'department': 'Civil Engineering'},\n",
       " {'course_code': 'CH', 'department': 'Chemistry'},\n",
       " {'course_code': 'CHE', 'department': 'Chemical Engineering'},\n",
       " {'course_code': 'CLK', 'department': 'Clark Scholars'},\n",
       " {'course_code': 'CM', 'department': 'Construction Management'},\n",
       " {'course_code': 'COMM', 'department': 'Professional Communications'},\n",
       " {'course_code': 'CPE', 'department': 'Computer Engineering'},\n",
       " {'course_code': 'CS', 'department': 'Computer Science'},\n",
       " {'course_code': 'DE', 'department': 'Developmental English'},\n",
       " {'course_code': 'DS', 'department': 'Data Science'},\n",
       " {'course_code': 'ECON', 'department': 'Economics'},\n",
       " {'course_code': 'EE', 'department': 'Electrical Engineering'},\n",
       " {'course_code': 'ELC', 'department': 'English Language and Communication'},\n",
       " {'course_code': 'EM', 'department': 'Engineering Management'},\n",
       " {'course_code': 'EMT', 'department': 'Executive Management of Technology'},\n",
       " {'course_code': 'EN', 'department': 'Environmental Engineering'},\n",
       " {'course_code': 'ENGR', 'department': 'Interdepartmental Engineering'},\n",
       " {'course_code': 'ES', 'department': 'Enterprise Systems'},\n",
       " {'course_code': 'FA', 'department': 'Financial Analytics'},\n",
       " {'course_code': 'FE', 'department': 'Financial Engineering'},\n",
       " {'course_code': 'FIN', 'department': 'Finance'},\n",
       " {'course_code': 'GEN', 'department': 'General Elective'},\n",
       " {'course_code': 'HAR', 'department': 'HumanitiesArt'},\n",
       " {'course_code': 'HHS', 'department': 'HumanitiesHistory'},\n",
       " {'course_code': 'HLI', 'department': 'HumanitiesLiterature'},\n",
       " {'course_code': 'HMU', 'department': 'HumanitiesMusic'},\n",
       " {'course_code': 'HONR', 'department': 'Honor Program'},\n",
       " {'course_code': 'HPL', 'department': 'HumanitiesPhilosophy'},\n",
       " {'course_code': 'HSS', 'department': 'HumanitiesSocial Sciences'},\n",
       " {'course_code': 'HST',\n",
       "  'department': 'Humanities Science and Technology Studies'},\n",
       " {'course_code': 'HTH', 'department': 'HumanitiesTheater'},\n",
       " {'course_code': 'HUM', 'department': 'Humanities General'},\n",
       " {'course_code': 'IDE',\n",
       "  'department': 'Innovation Design and Entrepreneurship'},\n",
       " {'course_code': 'IPD', 'department': 'Integrated Product Development'},\n",
       " {'course_code': 'ISE', 'department': 'Industrial and Systems Engineering'},\n",
       " {'course_code': 'LCH', 'department': 'Language Chinese'},\n",
       " {'course_code': 'LFR', 'department': 'Language French'},\n",
       " {'course_code': 'LSP', 'department': 'Language Spanish'},\n",
       " {'course_code': 'LTL', 'department': 'LanguageItalian'},\n",
       " {'course_code': 'MA', 'department': 'Mathematics'},\n",
       " {'course_code': 'ME', 'department': 'Mechanical Engineering'},\n",
       " {'course_code': 'MGT', 'department': 'Management'},\n",
       " {'course_code': 'MIS', 'department': 'Information Systems'},\n",
       " {'course_code': 'MT', 'department': 'Materials Engineering'},\n",
       " {'course_code': 'NANO', 'department': 'Nanotechnology'},\n",
       " {'course_code': 'NE', 'department': 'Naval Engineering'},\n",
       " {'course_code': 'NIS', 'department': 'Networked Information Systems'},\n",
       " {'course_code': 'OE', 'department': 'Ocean Engineering'},\n",
       " {'course_code': 'PAE', 'department': 'Product Architecture and Engineering'},\n",
       " {'course_code': 'PEP', 'department': 'Physics Engineering Physics'},\n",
       " {'course_code': 'PIN', 'department': 'Pinnacle Scholar'},\n",
       " {'course_code': 'PME', 'department': 'Pharmaceutical Manufacturing'},\n",
       " {'course_code': 'QF', 'department': 'Quantitative Finance'},\n",
       " {'course_code': 'SEF', 'department': 'Science Engineering Found for Edu'},\n",
       " {'course_code': 'SES', 'department': 'Systems Engineering Security'},\n",
       " {'course_code': 'SM', 'department': 'Sustainability Management'},\n",
       " {'course_code': 'SOC', 'department': 'Service Oriented Computing'},\n",
       " {'course_code': 'SSW', 'department': 'Software Engineering'},\n",
       " {'course_code': 'SYS', 'department': 'Systems Engineering'},\n",
       " {'course_code': 'TE', 'department': 'Technical Elective'},\n",
       " {'course_code': 'TG', 'department': 'Technogenesis'},\n",
       " {'course_code': 'TM', 'department': 'Telecommunications Management'}]"
      ]
     },
     "execution_count": 12,
     "metadata": {},
     "output_type": "execute_result"
    }
   ],
   "source": [
    "unique_courses"
   ]
  },
  {
   "cell_type": "code",
   "execution_count": null,
   "metadata": {},
   "outputs": [
    {
     "data": {
      "text/plain": [
       "70"
      ]
     },
     "execution_count": 9,
     "metadata": {},
     "output_type": "execute_result"
    }
   ],
   "source": [
    "len(unique_mapper)"
   ]
  },
  {
   "cell_type": "code",
   "execution_count": null,
   "metadata": {},
   "outputs": [],
   "source": [
    "from uuid import uuid4\n",
    "\n",
    "new_courses = []\n",
    "\n",
    "for c in courses:\n",
    "  c['_id'] = str(uuid4())\n",
    "  new_courses.append(c)\n",
    "\n",
    "json.dump(new_courses, open(\"new_course_data_extracted_1.json\", \"w\"))"
   ]
  },
  {
   "cell_type": "code",
   "execution_count": 7,
   "metadata": {},
   "outputs": [],
   "source": [
    "import json\n",
    "data = json.load(open(\"course_data_extracted.json\", \"r\"))\n",
    "for course in data:\n",
    "  # title = \" \".join(course['course_title'].split(' ')[2:])\n",
    "  # course['course_title'] = title\n",
    "    course['courses_rating'] = []\n",
    "\n",
    "json.dump(data, open(\"course_data_extracted_new.json\", \"w\"))"
   ]
  },
  {
   "cell_type": "code",
   "execution_count": null,
   "metadata": {},
   "outputs": [],
   "source": []
  }
 ],
 "metadata": {
  "kernelspec": {
   "display_name": "Python 3",
   "language": "python",
   "name": "python3"
  },
  "language_info": {
   "codemirror_mode": {
    "name": "ipython",
    "version": 3
   },
   "file_extension": ".py",
   "mimetype": "text/x-python",
   "name": "python",
   "nbconvert_exporter": "python",
   "pygments_lexer": "ipython3",
   "version": "3.9.12"
  }
 },
 "nbformat": 4,
 "nbformat_minor": 2
}
